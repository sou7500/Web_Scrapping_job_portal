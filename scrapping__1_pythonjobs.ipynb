{
  "cells": [
    {
      "cell_type": "markdown",
      "metadata": {
        "id": "view-in-github",
        "colab_type": "text"
      },
      "source": [
        "<a href=\"https://colab.research.google.com/github/sou7500/Web_Scrapping_job_portal/blob/main/scrapping__1_pythonjobs.ipynb\" target=\"_parent\"><img src=\"https://colab.research.google.com/assets/colab-badge.svg\" alt=\"Open In Colab\"/></a>"
      ]
    },
    {
      "cell_type": "markdown",
      "source": [
        "## **Scrapping job portal to retrive email address of hiring managers.**\n",
        "\n",
        "\n",
        "**Website- https://pythonjobs.github.io/**\n",
        "\n",
        "\n",
        "**Outcome required- Email addresses of hiring managers **\n"
      ],
      "metadata": {
        "id": "fdQ8DmMUHyd7"
      },
      "id": "fdQ8DmMUHyd7"
    },
    {
      "cell_type": "markdown",
      "source": [
        "**Importing libraries required for the task**"
      ],
      "metadata": {
        "id": "Jd8zBreaIyZa"
      },
      "id": "Jd8zBreaIyZa"
    },
    {
      "cell_type": "code",
      "execution_count": null,
      "id": "6dec79bf",
      "metadata": {
        "id": "6dec79bf"
      },
      "outputs": [],
      "source": [
        "from bs4 import BeautifulSoup as bs\n",
        "import requests\n"
      ]
    },
    {
      "cell_type": "markdown",
      "source": [
        "Request sent to the website."
      ],
      "metadata": {
        "id": "IjS5hNhXJEMv"
      },
      "id": "IjS5hNhXJEMv"
    },
    {
      "cell_type": "code",
      "execution_count": null,
      "id": "0655c4a7",
      "metadata": {
        "id": "0655c4a7"
      },
      "outputs": [],
      "source": [
        "urlopen= requests.get(\"https://pythonjobs.github.io/\")"
      ]
    },
    {
      "cell_type": "markdown",
      "source": [
        "Getting HTML content from the page"
      ],
      "metadata": {
        "id": "t77ybuiAJKSP"
      },
      "id": "t77ybuiAJKSP"
    },
    {
      "cell_type": "code",
      "execution_count": null,
      "id": "c5222d9b",
      "metadata": {
        "id": "c5222d9b"
      },
      "outputs": [],
      "source": [
        "html= urlopen.content \n",
        "soup= bs(html, 'html.parser')"
      ]
    },
    {
      "cell_type": "markdown",
      "source": [
        "**The email addresses are stored in a second web page.**\n",
        "\n",
        "Retreiving required class from html content containing weblink of different web page which actually contains the email addresses."
      ],
      "metadata": {
        "id": "RAnUPiSUJR8t"
      },
      "id": "RAnUPiSUJR8t"
    },
    {
      "cell_type": "code",
      "execution_count": null,
      "id": "a85aa0c2",
      "metadata": {
        "id": "a85aa0c2",
        "outputId": "5227f997-3a04-4d8c-e0b7-a66453951ec8"
      },
      "outputs": [
        {
          "data": {
            "text/plain": [
              "[<a class=\"go_button\" href=\"/jobs/hbk-strats-developer.html\">\n",
              " \t\t    \tRead more <i class=\"i-right\"></i>\n",
              " </a>,\n",
              " <a class=\"go_button\" href=\"/jobs/open-data-services-co-operative-python-software-developer.html\">\n",
              " \t\t    \tRead more <i class=\"i-right\"></i>\n",
              " </a>,\n",
              " <a class=\"go_button\" href=\"/jobs/oomnitza-back-end-sw-enginneer-irl-remote.html\">\n",
              " \t\t    \tRead more <i class=\"i-right\"></i>\n",
              " </a>,\n",
              " <a class=\"go_button\" href=\"/jobs/bmat-python-backend-engineer.html\">\n",
              " \t\t    \tRead more <i class=\"i-right\"></i>\n",
              " </a>,\n",
              " <a class=\"go_button\" href=\"/jobs/bmat-senior-backend-engineer.html\">\n",
              " \t\t    \tRead more <i class=\"i-right\"></i>\n",
              " </a>]"
            ]
          },
          "execution_count": 120,
          "metadata": {},
          "output_type": "execute_result"
        }
      ],
      "source": [
        "#jobs= soup.find('section', class_= 'job_list')\n",
        "jobss=soup.find_all('a',class_='go_button',href=True)\n",
        "jobss"
      ]
    },
    {
      "cell_type": "markdown",
      "source": [
        "**Links retreived but they are incomplete as \"href\" value do not contain the complete links.**\n",
        "\n",
        "\n",
        "Thus adding parent weblink with each \"href\" value.\n",
        "\n",
        "Using empty list variable to store the complete web links."
      ],
      "metadata": {
        "id": "Xtq26HmyKfGg"
      },
      "id": "Xtq26HmyKfGg"
    },
    {
      "cell_type": "code",
      "execution_count": null,
      "id": "af99f660",
      "metadata": {
        "id": "af99f660"
      },
      "outputs": [],
      "source": [
        "full_link=[]\n",
        "for i in jobss:\n",
        "    link= i.get('href')\n",
        "    full_link.append(('https://pythonjobs.github.io/') +(link))\n",
        "#     full_link.append(('https://pythonjobs.github.io/') +(link))\n",
        "   "
      ]
    },
    {
      "cell_type": "markdown",
      "source": [
        "**Full link are deduced in a list type valriable so that loops can be used easily.**"
      ],
      "metadata": {
        "id": "S1gRUGwMLLuj"
      },
      "id": "S1gRUGwMLLuj"
    },
    {
      "cell_type": "code",
      "execution_count": null,
      "id": "cfbc3d35",
      "metadata": {
        "id": "cfbc3d35",
        "outputId": "ae6f381e-5f67-41df-d5af-76e346b891d9"
      },
      "outputs": [
        {
          "data": {
            "text/plain": [
              "['https://pythonjobs.github.io//jobs/hbk-strats-developer.html',\n",
              " 'https://pythonjobs.github.io//jobs/open-data-services-co-operative-python-software-developer.html',\n",
              " 'https://pythonjobs.github.io//jobs/oomnitza-back-end-sw-enginneer-irl-remote.html',\n",
              " 'https://pythonjobs.github.io//jobs/bmat-python-backend-engineer.html',\n",
              " 'https://pythonjobs.github.io//jobs/bmat-senior-backend-engineer.html']"
            ]
          },
          "execution_count": 132,
          "metadata": {},
          "output_type": "execute_result"
        }
      ],
      "source": [
        "full_link"
      ]
    },
    {
      "cell_type": "markdown",
      "source": [
        "Again, using a loop on complete weblink to retreive email address one by one.\n",
        "\n",
        "Cleaning the link using split function to get the actual value of email address."
      ],
      "metadata": {
        "id": "VwJzMLIjLTvT"
      },
      "id": "VwJzMLIjLTvT"
    },
    {
      "cell_type": "code",
      "execution_count": null,
      "id": "2acf5e84",
      "metadata": {
        "id": "2acf5e84",
        "outputId": "097093bb-7e50-4ec9-85ae-09000a0d6088"
      },
      "outputs": [
        {
          "name": "stdout",
          "output_type": "stream",
          "text": [
            "pandriychenko@hbk.com\n",
            "ben.webb+please+apply+through+website@opendataservices.coop\n",
            "rency.anoop@oomnitza.com\n",
            "blomardo@bmat.com\n",
            "blomardo@bmat.com\n"
          ]
        }
      ],
      "source": [
        " for i in full_link:\n",
        "    jobs_url= requests.get(i)\n",
        "    jobs_soup= bs(jobs_url.content,'html.parser')\n",
        "    em= jobs_soup.find('div',class_ = 'contact')\n",
        "    email= em.find('a')\n",
        "    emails= email.get('href')\n",
        "    b= emails.split(':')\n",
        "    actual_email= b[1].split('?')[0]\n",
        "    print(actual_email)\n",
        "\n",
        "    "
      ]
    },
    {
      "cell_type": "markdown",
      "source": [
        "**Complete email addresses are the outcome now.**"
      ],
      "metadata": {
        "id": "cszYQPO0MRtR"
      },
      "id": "cszYQPO0MRtR"
    },
    {
      "cell_type": "code",
      "execution_count": null,
      "id": "b41bc7b4",
      "metadata": {
        "id": "b41bc7b4"
      },
      "outputs": [],
      "source": []
    }
  ],
  "metadata": {
    "kernelspec": {
      "display_name": "Python 3 (ipykernel)",
      "language": "python",
      "name": "python3"
    },
    "language_info": {
      "codemirror_mode": {
        "name": "ipython",
        "version": 3
      },
      "file_extension": ".py",
      "mimetype": "text/x-python",
      "name": "python",
      "nbconvert_exporter": "python",
      "pygments_lexer": "ipython3",
      "version": "3.9.12"
    },
    "colab": {
      "provenance": [],
      "include_colab_link": true
    }
  },
  "nbformat": 4,
  "nbformat_minor": 5
}